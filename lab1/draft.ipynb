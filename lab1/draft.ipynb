{
 "cells": [
  {
   "cell_type": "code",
   "execution_count": 1,
   "metadata": {},
   "outputs": [],
   "source": [
    "from selenium.webdriver import Chrome\n",
    "from selenium.webdriver.chrome.options import Options\n",
    "from selenium.webdriver.common.by import By\n",
    "from selenium.webdriver.common.keys import Keys\n",
    "from selenium.webdriver.common.action_chains import ActionChains\n",
    "\n",
    "from time import sleep\n",
    "import tqdm\n",
    "import json\n",
    "import time\n",
    "\n",
    "import requests\n",
    "from bs4 import BeautifulSoup\n",
    "from html2text import html2text\n",
    "\n",
    "import pandas as pd\n",
    "\n",
    "from sklearn.feature_extraction.text import CountVectorizer"
   ]
  },
  {
   "cell_type": "code",
   "execution_count": 2,
   "metadata": {},
   "outputs": [],
   "source": [
    "import warnings\n",
    "warnings.filterwarnings('ignore')"
   ]
  },
  {
   "cell_type": "code",
   "execution_count": 3,
   "metadata": {},
   "outputs": [],
   "source": [
    "#Download driver using the link at the top of the notebook\n",
    "chrome_driver_path = \"chromedriver.exe\"\n",
    "links_filename = \"links.txt\""
   ]
  },
  {
   "cell_type": "code",
   "execution_count": 7,
   "metadata": {},
   "outputs": [],
   "source": [
    "categories = [\"science\", \"sports\", \"entertainment\", \"lifestyle\"]"
   ]
  },
  {
   "cell_type": "code",
   "execution_count": 12,
   "metadata": {},
   "outputs": [],
   "source": [
    "def parse_category_foxnews(category, pages, output):\n",
    "    prefs = {\"profile.managed_default_content_settings.images\": 2,\n",
    "             \"profile.default_content_settings.cookies\": 2}\n",
    "    chrome_options = Options()\n",
    "    chrome_options.add_extension('adblock.crx')\n",
    "    chrome_options.add_experimental_option(\"prefs\",prefs)\n",
    "    chrome_options.add_argument('--disable-application-cache')\n",
    "    driver = Chrome(executable_path=chrome_driver_path, chrome_options=chrome_options)\n",
    "    driver.implicitly_wait(10)\n",
    "    driver.close()\n",
    "    print(\"Current session is {}\".format(driver.session_id))\n",
    "    driver.switch_to.window(driver.window_handles[0])\n",
    "    driver.get('chrome-extension://gighmmpiobklfepjocnamgkkbiglidom/options.html')\n",
    "    driver.find_element('id', 'acceptable_ads').click() #adblock customization\n",
    "    driver.get('https://www.foxnews.com/' + category)\n",
    "\n",
    "    SCROLL_PAUSE_TIME = 2\n",
    "\n",
    "    for i in range(pages):\n",
    "        driver.find_element(By.CLASS_NAME, 'load-more').click()\n",
    "        time.sleep(SCROLL_PAUSE_TIME)\n",
    "\n",
    "    for block in tqdm.tqdm(driver.find_elements(By.CLASS_NAME,\n",
    "    \"main-content\"),position=0):\n",
    "        for element in tqdm.tqdm(block.find_elements(By.XPATH,\n",
    "        \"//article\"),position=0):    \n",
    "            with open(output, 'a') as file:\n",
    "                if 'video' in element.find_element(By.TAG_NAME, 'a').get_attribute('href'):\n",
    "                    continue\n",
    "                file.write(json.dumps({\n",
    "                    'link' : element.find_element(By.TAG_NAME, 'a').get_attribute('href'),\n",
    "                    'category': category\n",
    "                },ensure_ascii=False) + '\\n') \n",
    "    driver.quit()\n"
   ]
  },
  {
   "cell_type": "code",
   "execution_count": 14,
   "metadata": {},
   "outputs": [
    {
     "name": "stdout",
     "output_type": "stream",
     "text": [
      "Current session is e548d8d30f62e6d13a4ddc6363686591\n"
     ]
    },
    {
     "name": "stderr",
     "output_type": "stream",
     "text": [
      "100%|██████████| 1038/1038 [00:53<00:00, 19.30it/s]\n",
      "100%|██████████| 1/1 [00:53<00:00, 53.86s/it]\n"
     ]
    },
    {
     "name": "stdout",
     "output_type": "stream",
     "text": [
      "Current session is a89179ec26a1adc6a0e72f47b50a2130\n"
     ]
    },
    {
     "name": "stderr",
     "output_type": "stream",
     "text": [
      "100%|██████████| 1080/1080 [00:58<00:00, 18.47it/s]\n",
      "100%|██████████| 1/1 [00:58<00:00, 58.55s/it]\n"
     ]
    },
    {
     "name": "stdout",
     "output_type": "stream",
     "text": [
      "Current session is 6eef12e622543be935a93ddff8a78e32\n"
     ]
    },
    {
     "name": "stderr",
     "output_type": "stream",
     "text": [
      "100%|██████████| 1033/1033 [00:54<00:00, 18.83it/s]\n",
      "100%|██████████| 1/1 [00:54<00:00, 54.95s/it]\n"
     ]
    },
    {
     "name": "stdout",
     "output_type": "stream",
     "text": [
      "Current session is b5fe5216b580d83823aec345dee31cbb\n"
     ]
    },
    {
     "name": "stderr",
     "output_type": "stream",
     "text": [
      "100%|██████████| 1055/1055 [00:40<00:00, 25.89it/s]\n",
      "100%|██████████| 1/1 [00:40<00:00, 40.84s/it]\n"
     ]
    }
   ],
   "source": [
    "for cat in categories:\n",
    "    parse_category_foxnews(cat, 100, links_filename)"
   ]
  },
  {
   "cell_type": "code",
   "execution_count": 7,
   "metadata": {},
   "outputs": [
    {
     "name": "stderr",
     "output_type": "stream",
     "text": [
      "100%|██████████| 4077/4077 [31:11<00:00,  2.18it/s] \n"
     ]
    }
   ],
   "source": [
    "import json\n",
    "from newspaper import Config\n",
    "from newspaper import Article\n",
    "from newspaper.utils import BeautifulSoup\n",
    "\n",
    "USER_AGENT = 'Mozilla/5.0 (Macintosh; Intel Mac OS X 10.15; rv:78.0) Gecko/20100101 Firefox/78.0'\n",
    "\n",
    "config = Config()\n",
    "config.browser_user_agent = USER_AGENT\n",
    "config.request_timeout = 10\n",
    "links = []\n",
    "\n",
    "jsondict = {\n",
    "        'catalog' : [\n",
    "\n",
    "        ]\n",
    "    }\n",
    "\n",
    "with open('links.txt', 'r') as f:\n",
    "    for line in tqdm.tqdm(f.readlines()):\n",
    "        dictionary = json.loads(line)\n",
    "        links.append(dictionary['link'])\n",
    "        #print(links[-1])\n",
    "        base_url = links[-1]\n",
    "        article = Article(base_url, config=config)\n",
    "        article.download()\n",
    "        article.parse()\n",
    "\n",
    "        article_id = base_url\n",
    "        article_title = article.title\n",
    "        article_category = dictionary['category']\n",
    "\n",
    "        article_meta_data = article.meta_data\n",
    "        article_tags = article_meta_data['news_keywords']\n",
    "        article_text = article.text\n",
    "\n",
    "        jsondict['catalog'].append(\n",
    "                        {\n",
    "                            'article_id': article_id,\n",
    "                            'title': article_title,\n",
    "                            'category': article_category,\n",
    "                            'tags': article_tags,\n",
    "                            'text': article_text,\n",
    "                        }\n",
    "        )\n",
    "    with open(\"news.json\", \"w\") as write_file:\n",
    "        json.dump(jsondict, write_file)\n",
    "        "
   ]
  },
  {
   "cell_type": "code",
   "execution_count": null,
   "metadata": {},
   "outputs": [],
   "source": [
    "!pip install newspaper3k"
   ]
  }
 ],
 "metadata": {
  "kernelspec": {
   "display_name": "base",
   "language": "python",
   "name": "python3"
  },
  "language_info": {
   "codemirror_mode": {
    "name": "ipython",
    "version": 3
   },
   "file_extension": ".py",
   "mimetype": "text/x-python",
   "name": "python",
   "nbconvert_exporter": "python",
   "pygments_lexer": "ipython3",
   "version": "3.9.7 (default, Sep 16 2021, 16:59:28) [MSC v.1916 64 bit (AMD64)]"
  },
  "orig_nbformat": 4,
  "vscode": {
   "interpreter": {
    "hash": "d07921fcac9efc71e32baa62f54cc7cc7703180b766de90eef3b067ead514a11"
   }
  }
 },
 "nbformat": 4,
 "nbformat_minor": 2
}
